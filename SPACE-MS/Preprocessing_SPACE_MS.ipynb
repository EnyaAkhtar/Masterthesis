{
 "cells": [
  {
   "cell_type": "markdown",
   "metadata": {},
   "source": [
    "# Preprocessing for SPACE-MS\n",
    "\n",
    "This notebook describes the steps that were taken to execute the SPACE-MS algorithm."
   ]
  },
  {
   "cell_type": "code",
   "execution_count": 2,
   "metadata": {},
   "outputs": [],
   "source": [
    "# Necessary imports\n",
    "import matplotlib.pyplot as plt\n",
    "import numpy as np\n",
    "import nibabel as nib\n",
    "import os\n",
    "from scipy.ndimage import label\n"
   ]
  },
  {
   "cell_type": "code",
   "execution_count": null,
   "metadata": {},
   "outputs": [],
   "source": [
    "def load_img_and_lesion(patient, visit):\n",
    "\n",
    "    \"\"\"\n",
    "    Load the T1-weighted volume and corresponding T2 lesion mask of a patient at a particular time point.\n",
    "\n",
    "    Args:\n",
    "        patient (str): Patient ID formatted as a three-digit string (e.g., '001', '050', '101').\n",
    "        visit (str): MRI scan time point (e.g., '1', '2', '3', or '4').\n",
    "\n",
    "    Returns:\n",
    "        nib.Nifti1Image: T1-weighted volume\n",
    "        nib.Nifti1Image: T2 lesion mask    \n",
    "    \"\"\"\n",
    "\n",
    "    # Paths for the T1 volume and T2 lesion mask\n",
    "    path_img_t1 = f\"/input_inference/01-{patient}_visit_{visit}/MS_01-{patient}_0001.nii.gz\"\n",
    "    path_lesion_mask = f\"/output_inference/01-{patient}_visit_{visit}/MS_01-{patient}.nii.gz\"\n",
    "\n",
    "    # Load volume and lesion mask\n",
    "    img_t1 = nib.load(path_img_t1)\n",
    "    lesion_mask = nib.load(path_lesion_mask)\n",
    "\n",
    "    return img_t1, lesion_mask"
   ]
  },
  {
   "cell_type": "markdown",
   "metadata": {},
   "source": [
    "## Remove small lesions\n",
    "\n",
    "Small lesions raises errors during imputation of the covariance matrix when running the SPACE-MS code run_sspace_ms.py. Therefore all lesions that were smaller than 10 voxels were removed from the lesion data."
   ]
  },
  {
   "cell_type": "code",
   "execution_count": 1,
   "metadata": {},
   "outputs": [],
   "source": [
    "def remove_lesions(patient, visit):\n",
    "\n",
    "    \"\"\"\n",
    "    Generates altered T2 lesion masks where the smallest lesions (under 10 voxels) are removed\n",
    "\n",
    "    Args:\n",
    "        patient (str): Patient ID formatted as a three-digit string (e.g., '001', '050', '101').\n",
    "        visit (str): MRI scan time point (e.g., '1', '2', '3', or '4').\n",
    "\n",
    "    Returns:\n",
    "        None: Saves lesion mask as NIfTI file   \n",
    "    \"\"\"\n",
    "\n",
    "    # Path where the new lesion masks are saved\n",
    "    output_path = f\"/masks_small_lesions_removed/{patient}_visit_{visit}.nii.gz\"\n",
    "\n",
    "    # Load the lesion mask\n",
    "    _, lesion_mask = load_img_and_lesion(patient, visit)\n",
    "\n",
    "    # Label all lesions and compute number of lesions\n",
    "    labeled_array, num_labels = label(lesion_mask.get_fdata())\n",
    "\n",
    "    # Create an array of only zeros the same shape as the lesion mask\n",
    "    filtered_img = np.zeros_like(labeled_array)                    \n",
    "\n",
    "    # Create binary lesion masks containing the lesions that are larger than 10 voxels\n",
    "    for i in range(1, num_labels +1):\n",
    "        if (np.sum(labeled_array == i)) >= 10:\n",
    "            filtered_img[labeled_array == i] = 1                  \n",
    "\n",
    "    # Save the lesion mask\n",
    "    filtered_nifti = nib.Nifti1Image(filtered_img, lesion_mask.affine)\n",
    "    nib.save(filtered_nifti, output_path)\n"
   ]
  },
  {
   "cell_type": "code",
   "execution_count": 7,
   "metadata": {},
   "outputs": [],
   "source": [
    "# Path to T2 lesions\n",
    "inference_output_path = f\"/output_inference/\"\n",
    "\n",
    "# Loop through patients and remove the small lesions\n",
    "for patient_visit in os.listdir(inference_output_path):\n",
    "    ID = patient_visit[3:6]\n",
    "    visit = patient_visit[-1:]\n",
    "    remove_lesions(ID, visit)"
   ]
  },
  {
   "cell_type": "code",
   "execution_count": null,
   "metadata": {},
   "outputs": [],
   "source": []
  }
 ],
 "metadata": {
  "kernelspec": {
   "display_name": "master_env",
   "language": "python",
   "name": "python3"
  },
  "language_info": {
   "codemirror_mode": {
    "name": "ipython",
    "version": 3
   },
   "file_extension": ".py",
   "mimetype": "text/x-python",
   "name": "python",
   "nbconvert_exporter": "python",
   "pygments_lexer": "ipython3",
   "version": "3.11.9"
  }
 },
 "nbformat": 4,
 "nbformat_minor": 2
}
