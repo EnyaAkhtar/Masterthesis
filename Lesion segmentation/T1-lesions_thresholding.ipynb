{
 "cells": [
  {
   "cell_type": "markdown",
   "metadata": {},
   "source": [
    "# Threshold based black hole segmentation\n",
    "\n",
    "This code was used to create T1 lesion (black hole) masks through a thresholding technique. The tissue segmentations performed by the FSL algorithm FAST was used to extract grey matter segmentations. Subsequently the 5th percentile of the grey matter intensities was calculated, creating a threshold value. All voxels in the T2 lesions that had an intensity lower than this threshold, was classified as a black hole voxel."
   ]
  },
  {
   "cell_type": "code",
   "execution_count": null,
   "metadata": {},
   "outputs": [],
   "source": [
    "# Imports\n",
    "import nibabel as nib\n",
    "import numpy as np\n",
    "import seaborn as sns\n",
    "import os"
   ]
  },
  {
   "cell_type": "code",
   "execution_count": null,
   "metadata": {},
   "outputs": [],
   "source": [
    "# Path to T2 lesion masks\n",
    "lesion_masks_path = f\"/output_inference/\"\n",
    "\n",
    "# Path to save T1 lesion masks\n",
    "output_path = \"/T1_lesions/\"\n",
    "\n",
    "# Path to T1-weighted volumes\n",
    "t1_img_path = f\"/input_inference/\"\n",
    "\n",
    "# List of subjects\n",
    "visits = sorted(os.listdir(lesion_masks_path))\n",
    "\n",
    "# Path to FSL Anat folders\n",
    "anat_path = f\"/fsl_preprocessed/\"\n",
    "\n",
    "\n",
    "for patient_visit in visits:\n",
    "\n",
    "    # Load lesion mask and T1 volume \n",
    "    patient = patient_visit.split(\"_\")[0]  \n",
    "    lesion_mask_full_path = os.path.join(lesion_masks_path, patient_visit, f\"MS_{patient}.nii.gz\")\n",
    "    lesion_mask = nib.load(lesion_mask_full_path)\n",
    "\n",
    "    t1_img_full_path = os.path.join(t1_img_path, patient_visit, f\"MS_{patient}_0001.nii.gz\")\n",
    "    t1_img = nib.load(t1_img_full_path).get_fdata()\n",
    "\n",
    "    anat_imgs = os.path.join(anat_path, patient_visit)\n",
    "\n",
    "    # Get tissue segmentations\n",
    "    for folder in os.listdir(anat_imgs):\n",
    "        if \"t1\" in folder:\n",
    "            all_segs_path = os.path.join(anat_imgs, folder, 'T1_fast_pveseg.nii.gz')\n",
    "\n",
    "    # Extract grey matter segmentation\n",
    "    all_segs = nib.load(all_segs_path).get_fdata()\n",
    "    gm_dist_t1 = t1_img[all_segs==2]\n",
    "\n",
    "    # Generate black hole mask based on 5th percentile of grey matter\n",
    "    black_hole_mask = (lesion_mask.get_fdata() == 1) & (t1_img < np.percentile(gm_dist_t1, 5))\n",
    "    new_mask = nib.Nifti1Image(black_hole_mask, lesion_mask.affine, lesion_mask.header)\n",
    "\n",
    "    # Save generated mask\n",
    "    output = os.path.join(output_path, f\"{patient_visit}.nii.gz\")\n",
    "    #nib.save(new_mask, output)\n",
    "    print(f\"{patient_visit} done\")\n",
    "\n",
    "print(\"ALL DONE\")"
   ]
  },
  {
   "cell_type": "code",
   "execution_count": null,
   "metadata": {},
   "outputs": [],
   "source": []
  }
 ],
 "metadata": {
  "kernelspec": {
   "display_name": "master_env",
   "language": "python",
   "name": "python3"
  },
  "language_info": {
   "codemirror_mode": {
    "name": "ipython",
    "version": 3
   },
   "file_extension": ".py",
   "mimetype": "text/x-python",
   "name": "python",
   "nbconvert_exporter": "python",
   "pygments_lexer": "ipython3",
   "version": "3.11.9"
  }
 },
 "nbformat": 4,
 "nbformat_minor": 2
}
